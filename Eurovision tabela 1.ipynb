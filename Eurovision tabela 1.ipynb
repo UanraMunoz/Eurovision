{
 "cells": [
  {
   "cell_type": "code",
   "execution_count": 749,
   "id": "0eb316ee",
   "metadata": {},
   "outputs": [],
   "source": [
    "import pandas as pd\n",
    "import numpy as np\n",
    "import matplotlib.pyplot as plt\n",
    "import seaborn as sns"
   ]
  },
  {
   "cell_type": "markdown",
   "id": "35177395",
   "metadata": {},
   "source": [
    "Importando .csv"
   ]
  },
  {
   "cell_type": "code",
   "execution_count": 750,
   "id": "7fca1711",
   "metadata": {},
   "outputs": [
    {
     "data": {
      "text/html": [
       "<div>\n",
       "<style scoped>\n",
       "    .dataframe tbody tr th:only-of-type {\n",
       "        vertical-align: middle;\n",
       "    }\n",
       "\n",
       "    .dataframe tbody tr th {\n",
       "        vertical-align: top;\n",
       "    }\n",
       "\n",
       "    .dataframe thead th {\n",
       "        text-align: right;\n",
       "    }\n",
       "</style>\n",
       "<table border=\"1\" class=\"dataframe\">\n",
       "  <thead>\n",
       "    <tr style=\"text-align: right;\">\n",
       "      <th></th>\n",
       "      <th>country</th>\n",
       "      <th>years</th>\n",
       "      <th>songs</th>\n",
       "      <th>artists</th>\n",
       "      <th>places</th>\n",
       "      <th>points</th>\n",
       "      <th>qualification</th>\n",
       "    </tr>\n",
       "  </thead>\n",
       "  <tbody>\n",
       "    <tr>\n",
       "      <th>0</th>\n",
       "      <td>Andorra</td>\n",
       "      <td>2009</td>\n",
       "      <td>La Teva Decisió (Get A Life)</td>\n",
       "      <td>Susanne Georgi</td>\n",
       "      <td>Didn't qualify</td>\n",
       "      <td>NaN</td>\n",
       "      <td>#15 in semi-final 1</td>\n",
       "    </tr>\n",
       "    <tr>\n",
       "      <th>1</th>\n",
       "      <td>Andorra</td>\n",
       "      <td>2008</td>\n",
       "      <td>Casanova</td>\n",
       "      <td>Gisela</td>\n",
       "      <td>Didn't qualify</td>\n",
       "      <td>NaN</td>\n",
       "      <td>#16 in semi-final 1</td>\n",
       "    </tr>\n",
       "    <tr>\n",
       "      <th>2</th>\n",
       "      <td>Andorra</td>\n",
       "      <td>2007</td>\n",
       "      <td>Salvem El Món</td>\n",
       "      <td>Anonymous</td>\n",
       "      <td>Didn't qualify</td>\n",
       "      <td>NaN</td>\n",
       "      <td>#12 in semi-final</td>\n",
       "    </tr>\n",
       "    <tr>\n",
       "      <th>3</th>\n",
       "      <td>Andorra</td>\n",
       "      <td>2006</td>\n",
       "      <td>Sense Tu</td>\n",
       "      <td>Jennifer</td>\n",
       "      <td>Didn't qualify</td>\n",
       "      <td>NaN</td>\n",
       "      <td>#23 in semi-final</td>\n",
       "    </tr>\n",
       "    <tr>\n",
       "      <th>4</th>\n",
       "      <td>Andorra</td>\n",
       "      <td>2005</td>\n",
       "      <td>La Mirada Interior</td>\n",
       "      <td>Marian van de Wal</td>\n",
       "      <td>Didn't qualify</td>\n",
       "      <td>NaN</td>\n",
       "      <td>#23 in semi-final</td>\n",
       "    </tr>\n",
       "  </tbody>\n",
       "</table>\n",
       "</div>"
      ],
      "text/plain": [
       "   country  years                         songs            artists  \\\n",
       "0  Andorra   2009  La Teva Decisió (Get A Life)     Susanne Georgi   \n",
       "1  Andorra   2008                      Casanova             Gisela   \n",
       "2  Andorra   2007                 Salvem El Món          Anonymous   \n",
       "3  Andorra   2006                      Sense Tu           Jennifer   \n",
       "4  Andorra   2005            La Mirada Interior  Marian van de Wal   \n",
       "\n",
       "           places points        qualification  \n",
       "0  Didn't qualify    NaN  #15 in semi-final 1  \n",
       "1  Didn't qualify    NaN  #16 in semi-final 1  \n",
       "2  Didn't qualify    NaN    #12 in semi-final  \n",
       "3  Didn't qualify    NaN    #23 in semi-final  \n",
       "4  Didn't qualify    NaN    #23 in semi-final  "
      ]
     },
     "execution_count": 750,
     "metadata": {},
     "output_type": "execute_result"
    }
   ],
   "source": [
    "df = pd.read_csv('D:\\\\IRONHACK\\\\Eurovisión\\\\Countries_Editions_Songs.csv')\n",
    "df.head()"
   ]
  },
  {
   "cell_type": "markdown",
   "id": "b1dcf557",
   "metadata": {},
   "source": [
    "Arrumando valores e colunas"
   ]
  },
  {
   "cell_type": "code",
   "execution_count": 751,
   "id": "ca518f77",
   "metadata": {},
   "outputs": [
    {
     "name": "stdout",
     "output_type": "stream",
     "text": [
      "<class 'pandas.core.frame.DataFrame'>\n",
      "RangeIndex: 1705 entries, 0 to 1704\n",
      "Data columns (total 7 columns):\n",
      " #   Column         Non-Null Count  Dtype \n",
      "---  ------         --------------  ----- \n",
      " 0   country        1705 non-null   object\n",
      " 1   years          1705 non-null   int64 \n",
      " 2   songs          1705 non-null   object\n",
      " 3   artists        1671 non-null   object\n",
      " 4   places         1664 non-null   object\n",
      " 5   points         1386 non-null   object\n",
      " 6   qualification  835 non-null    object\n",
      "dtypes: int64(1), object(6)\n",
      "memory usage: 93.4+ KB\n"
     ]
    }
   ],
   "source": [
    "df.info()"
   ]
  },
  {
   "cell_type": "code",
   "execution_count": 752,
   "id": "7de734a7",
   "metadata": {
    "scrolled": true
   },
   "outputs": [
    {
     "data": {
      "text/plain": [
       "27                  1\n",
       "26                 10\n",
       "25                 18\n",
       "23                 25\n",
       "24                 26\n",
       "21                 36\n",
       "20                 36\n",
       "–                  37\n",
       "22                 38\n",
       "19                 40\n",
       "17                 49\n",
       "15                 54\n",
       "16                 54\n",
       "18                 55\n",
       "11                 57\n",
       "6                  58\n",
       "14                 60\n",
       "3                  61\n",
       "5                  62\n",
       "12                 62\n",
       "9                  64\n",
       "10                 66\n",
       "8                  67\n",
       "7                  67\n",
       "#1                 68\n",
       "4                  69\n",
       "13                 70\n",
       "2                  76\n",
       "Didn't qualify    278\n",
       "Name: places, dtype: int64"
      ]
     },
     "execution_count": 752,
     "metadata": {},
     "output_type": "execute_result"
    }
   ],
   "source": [
    "df['places'].value_counts().sort_values()"
   ]
  },
  {
   "cell_type": "markdown",
   "id": "604ee453",
   "metadata": {},
   "source": [
    "Fora 'didn't qualify', pois vamos nos centrar apenas nos finalistas"
   ]
  },
  {
   "cell_type": "code",
   "execution_count": 753,
   "id": "7aedeef5",
   "metadata": {},
   "outputs": [],
   "source": [
    "df.drop(df[df['places'] == 'Didn\\'t qualify'].index, inplace = True)"
   ]
  },
  {
   "cell_type": "code",
   "execution_count": 754,
   "id": "57e35757",
   "metadata": {},
   "outputs": [],
   "source": [
    "df.drop(df[df['places'] == '–'].index, inplace = True)"
   ]
  },
  {
   "cell_type": "code",
   "execution_count": 755,
   "id": "f38718e9",
   "metadata": {},
   "outputs": [
    {
     "data": {
      "text/plain": [
       "(1390, 7)"
      ]
     },
     "execution_count": 755,
     "metadata": {},
     "output_type": "execute_result"
    }
   ],
   "source": [
    "df.shape"
   ]
  },
  {
   "cell_type": "code",
   "execution_count": 756,
   "id": "25c5cbe7",
   "metadata": {},
   "outputs": [],
   "source": [
    "df = df[df['years'] < 2020]"
   ]
  },
  {
   "cell_type": "code",
   "execution_count": 757,
   "id": "a6582642",
   "metadata": {},
   "outputs": [
    {
     "data": {
      "text/plain": [
       "27     1\n",
       "26     9\n",
       "25    16\n",
       "23    23\n",
       "24    24\n",
       "21    34\n",
       "20    34\n",
       "22    36\n",
       "19    38\n",
       "17    47\n",
       "15    52\n",
       "16    52\n",
       "18    53\n",
       "11    55\n",
       "6     56\n",
       "14    58\n",
       "3     59\n",
       "5     60\n",
       "12    60\n",
       "9     62\n",
       "10    64\n",
       "8     65\n",
       "7     65\n",
       "#1    66\n",
       "4     67\n",
       "13    68\n",
       "2     74\n",
       "Name: places, dtype: int64"
      ]
     },
     "execution_count": 757,
     "metadata": {},
     "output_type": "execute_result"
    }
   ],
   "source": [
    "df['places'].value_counts().sort_values()"
   ]
  },
  {
   "cell_type": "code",
   "execution_count": 758,
   "id": "4d9457b8",
   "metadata": {},
   "outputs": [],
   "source": [
    "df.loc[df['places'].str.contains('#1') == True, 'places'] = 1"
   ]
  },
  {
   "cell_type": "code",
   "execution_count": 759,
   "id": "a80ab080",
   "metadata": {},
   "outputs": [],
   "source": [
    "df = df.drop('qualification', axis=1)"
   ]
  },
  {
   "cell_type": "code",
   "execution_count": 760,
   "id": "afd56830",
   "metadata": {},
   "outputs": [
    {
     "name": "stdout",
     "output_type": "stream",
     "text": [
      "<class 'pandas.core.frame.DataFrame'>\n",
      "Int64Index: 1298 entries, 10 to 1704\n",
      "Data columns (total 6 columns):\n",
      " #   Column   Non-Null Count  Dtype \n",
      "---  ------   --------------  ----- \n",
      " 0   country  1298 non-null   object\n",
      " 1   years    1298 non-null   int64 \n",
      " 2   songs    1298 non-null   object\n",
      " 3   artists  1298 non-null   object\n",
      " 4   places   1298 non-null   object\n",
      " 5   points   1298 non-null   object\n",
      "dtypes: int64(1), object(5)\n",
      "memory usage: 71.0+ KB\n"
     ]
    }
   ],
   "source": [
    "df.info()"
   ]
  },
  {
   "cell_type": "code",
   "execution_count": 761,
   "id": "a23753b9",
   "metadata": {},
   "outputs": [],
   "source": [
    "df['places'] = df['places'].astype(int)"
   ]
  },
  {
   "cell_type": "code",
   "execution_count": 762,
   "id": "815092a4",
   "metadata": {
    "scrolled": false
   },
   "outputs": [
    {
     "data": {
      "text/plain": [
       "280     1\n",
       "75      1\n",
       "259     1\n",
       "185     1\n",
       "372     1\n",
       "       ..\n",
       "2      23\n",
       "4      23\n",
       "8      26\n",
       "5      32\n",
       "0      35\n",
       "Name: points, Length: 243, dtype: int64"
      ]
     },
     "execution_count": 762,
     "metadata": {},
     "output_type": "execute_result"
    }
   ],
   "source": [
    "df['points'].value_counts().sort_values()"
   ]
  },
  {
   "cell_type": "code",
   "execution_count": 763,
   "id": "5f3d2287",
   "metadata": {},
   "outputs": [],
   "source": [
    "df['points'] = df['points'].replace('–', 0)"
   ]
  },
  {
   "cell_type": "code",
   "execution_count": 764,
   "id": "8594715d",
   "metadata": {},
   "outputs": [],
   "source": [
    "df['points'] = df['points'].astype(int)"
   ]
  },
  {
   "cell_type": "code",
   "execution_count": 765,
   "id": "1b34153f",
   "metadata": {},
   "outputs": [],
   "source": [
    "df = df[df.years > 1974]"
   ]
  },
  {
   "cell_type": "code",
   "execution_count": 766,
   "id": "38012563",
   "metadata": {
    "scrolled": true
   },
   "outputs": [
    {
     "name": "stdout",
     "output_type": "stream",
     "text": [
      "<class 'pandas.core.frame.DataFrame'>\n",
      "Int64Index: 1024 entries, 10 to 1704\n",
      "Data columns (total 6 columns):\n",
      " #   Column   Non-Null Count  Dtype \n",
      "---  ------   --------------  ----- \n",
      " 0   country  1024 non-null   object\n",
      " 1   years    1024 non-null   int64 \n",
      " 2   songs    1024 non-null   object\n",
      " 3   artists  1024 non-null   object\n",
      " 4   places   1024 non-null   int32 \n",
      " 5   points   1024 non-null   int32 \n",
      "dtypes: int32(2), int64(1), object(3)\n",
      "memory usage: 48.0+ KB\n"
     ]
    }
   ],
   "source": [
    "df.info()"
   ]
  },
  {
   "cell_type": "code",
   "execution_count": 767,
   "id": "d4040c96",
   "metadata": {
    "scrolled": false
   },
   "outputs": [
    {
     "name": "stdout",
     "output_type": "stream",
     "text": [
      "['Australia' 'Azerbaijan' 'Armenia' 'Albania' 'Belarus' 'Austria'\n",
      " 'Belgium' 'Bulgaria' 'Bosnia & Herzegovina' 'Czech Republic' 'Croatia'\n",
      " 'Cyprus' 'Denmark' 'Estonia' 'Finland' 'France' 'Georgia' 'Germany'\n",
      " 'Greece' 'Hungary' 'Iceland' 'Italy' 'Ireland' 'Luxembourg' 'Israel'\n",
      " 'Malta' 'Lithuania' 'Moldova' 'Latvia' 'Norway' 'Montenegro' 'Romania'\n",
      " 'Netherlands' 'Russia' 'Poland' 'North Macedonia' 'Portugal' 'San Marino'\n",
      " 'Slovakia' 'Sweden' 'Slovenia' 'Spain' 'Serbia' 'Yugoslavia'\n",
      " 'United Kingdom' 'Switzerland' 'Turkey' 'Ukraine']\n"
     ]
    }
   ],
   "source": [
    "print(df['country'].unique())"
   ]
  },
  {
   "cell_type": "code",
   "execution_count": 768,
   "id": "3eb1eab0",
   "metadata": {},
   "outputs": [
    {
     "data": {
      "text/html": [
       "<div>\n",
       "<style scoped>\n",
       "    .dataframe tbody tr th:only-of-type {\n",
       "        vertical-align: middle;\n",
       "    }\n",
       "\n",
       "    .dataframe tbody tr th {\n",
       "        vertical-align: top;\n",
       "    }\n",
       "\n",
       "    .dataframe thead th {\n",
       "        text-align: right;\n",
       "    }\n",
       "</style>\n",
       "<table border=\"1\" class=\"dataframe\">\n",
       "  <thead>\n",
       "    <tr style=\"text-align: right;\">\n",
       "      <th></th>\n",
       "      <th>country</th>\n",
       "      <th>years</th>\n",
       "      <th>songs</th>\n",
       "      <th>artists</th>\n",
       "      <th>places</th>\n",
       "      <th>points</th>\n",
       "    </tr>\n",
       "  </thead>\n",
       "  <tbody>\n",
       "    <tr>\n",
       "      <th>10</th>\n",
       "      <td>Australia</td>\n",
       "      <td>2019</td>\n",
       "      <td>Zero Gravity</td>\n",
       "      <td>Kate Miller-Heidke</td>\n",
       "      <td>9</td>\n",
       "      <td>284</td>\n",
       "    </tr>\n",
       "    <tr>\n",
       "      <th>11</th>\n",
       "      <td>Australia</td>\n",
       "      <td>2018</td>\n",
       "      <td>We Got Love</td>\n",
       "      <td>Jessica Mauboy</td>\n",
       "      <td>20</td>\n",
       "      <td>99</td>\n",
       "    </tr>\n",
       "    <tr>\n",
       "      <th>12</th>\n",
       "      <td>Australia</td>\n",
       "      <td>2017</td>\n",
       "      <td>Don't Come Easy</td>\n",
       "      <td>Isaiah</td>\n",
       "      <td>9</td>\n",
       "      <td>173</td>\n",
       "    </tr>\n",
       "    <tr>\n",
       "      <th>13</th>\n",
       "      <td>Australia</td>\n",
       "      <td>2016</td>\n",
       "      <td>Sound of Silence</td>\n",
       "      <td>Dami Im</td>\n",
       "      <td>2</td>\n",
       "      <td>511</td>\n",
       "    </tr>\n",
       "    <tr>\n",
       "      <th>14</th>\n",
       "      <td>Australia</td>\n",
       "      <td>2015</td>\n",
       "      <td>Tonight Again</td>\n",
       "      <td>Guy Sebastian</td>\n",
       "      <td>5</td>\n",
       "      <td>196</td>\n",
       "    </tr>\n",
       "  </tbody>\n",
       "</table>\n",
       "</div>"
      ],
      "text/plain": [
       "      country  years             songs             artists  places  points\n",
       "10  Australia   2019      Zero Gravity  Kate Miller-Heidke       9     284\n",
       "11  Australia   2018       We Got Love      Jessica Mauboy      20      99\n",
       "12  Australia   2017   Don't Come Easy              Isaiah       9     173\n",
       "13  Australia   2016  Sound of Silence             Dami Im       2     511\n",
       "14  Australia   2015     Tonight Again       Guy Sebastian       5     196"
      ]
     },
     "execution_count": 768,
     "metadata": {},
     "output_type": "execute_result"
    }
   ],
   "source": [
    "df.head()"
   ]
  },
  {
   "cell_type": "markdown",
   "id": "5bdf1ec2",
   "metadata": {},
   "source": [
    "IMPORTANDO .CSV COM TELEVOTING"
   ]
  },
  {
   "cell_type": "code",
   "execution_count": 769,
   "id": "e3902607",
   "metadata": {},
   "outputs": [],
   "source": [
    "df_tele = pd.read_csv('D:\\\\IRONHACK\\\\Eurovisión\\\\CSV_PRONTOS\\\\votos_tele.csv', index_col = [0])"
   ]
  },
  {
   "cell_type": "code",
   "execution_count": 770,
   "id": "ffba6e10",
   "metadata": {
    "scrolled": true
   },
   "outputs": [
    {
     "data": {
      "text/html": [
       "<div>\n",
       "<style scoped>\n",
       "    .dataframe tbody tr th:only-of-type {\n",
       "        vertical-align: middle;\n",
       "    }\n",
       "\n",
       "    .dataframe tbody tr th {\n",
       "        vertical-align: top;\n",
       "    }\n",
       "\n",
       "    .dataframe thead th {\n",
       "        text-align: right;\n",
       "    }\n",
       "</style>\n",
       "<table border=\"1\" class=\"dataframe\">\n",
       "  <thead>\n",
       "    <tr style=\"text-align: right;\">\n",
       "      <th></th>\n",
       "      <th>year</th>\n",
       "      <th>to_country</th>\n",
       "      <th>t_points</th>\n",
       "    </tr>\n",
       "  </thead>\n",
       "  <tbody>\n",
       "    <tr>\n",
       "      <th>0</th>\n",
       "      <td>2016</td>\n",
       "      <td>Armenia</td>\n",
       "      <td>134</td>\n",
       "    </tr>\n",
       "    <tr>\n",
       "      <th>1</th>\n",
       "      <td>2016</td>\n",
       "      <td>Australia</td>\n",
       "      <td>191</td>\n",
       "    </tr>\n",
       "    <tr>\n",
       "      <th>2</th>\n",
       "      <td>2016</td>\n",
       "      <td>Austria</td>\n",
       "      <td>120</td>\n",
       "    </tr>\n",
       "    <tr>\n",
       "      <th>3</th>\n",
       "      <td>2016</td>\n",
       "      <td>Azerbaijan</td>\n",
       "      <td>73</td>\n",
       "    </tr>\n",
       "    <tr>\n",
       "      <th>4</th>\n",
       "      <td>2016</td>\n",
       "      <td>Belgium</td>\n",
       "      <td>51</td>\n",
       "    </tr>\n",
       "  </tbody>\n",
       "</table>\n",
       "</div>"
      ],
      "text/plain": [
       "   year  to_country  t_points\n",
       "0  2016     Armenia       134\n",
       "1  2016   Australia       191\n",
       "2  2016     Austria       120\n",
       "3  2016  Azerbaijan        73\n",
       "4  2016     Belgium        51"
      ]
     },
     "execution_count": 770,
     "metadata": {},
     "output_type": "execute_result"
    }
   ],
   "source": [
    "df_tele.head()"
   ]
  },
  {
   "cell_type": "code",
   "execution_count": 771,
   "id": "b1622b90",
   "metadata": {
    "scrolled": true
   },
   "outputs": [
    {
     "name": "stdout",
     "output_type": "stream",
     "text": [
      "<class 'pandas.core.frame.DataFrame'>\n",
      "Int64Index: 104 entries, 0 to 103\n",
      "Data columns (total 3 columns):\n",
      " #   Column      Non-Null Count  Dtype \n",
      "---  ------      --------------  ----- \n",
      " 0   year        104 non-null    int64 \n",
      " 1   to_country  104 non-null    object\n",
      " 2   t_points    104 non-null    int64 \n",
      "dtypes: int64(2), object(1)\n",
      "memory usage: 3.2+ KB\n"
     ]
    }
   ],
   "source": [
    "df_tele.info()"
   ]
  },
  {
   "cell_type": "code",
   "execution_count": 772,
   "id": "6cbc354b",
   "metadata": {},
   "outputs": [],
   "source": [
    "df_merged = pd.merge(df, df_tele, how='left', left_on=['years', 'country'], right_on=['year', 'to_country'])"
   ]
  },
  {
   "cell_type": "code",
   "execution_count": 773,
   "id": "dfb34866",
   "metadata": {},
   "outputs": [],
   "source": [
    "df_merged.drop(['year', 'to_country'], axis=1, inplace=True)"
   ]
  },
  {
   "cell_type": "code",
   "execution_count": 774,
   "id": "64e14304",
   "metadata": {},
   "outputs": [],
   "source": [
    "df_merged['t_points'].fillna(0, inplace=True)"
   ]
  },
  {
   "cell_type": "code",
   "execution_count": 775,
   "id": "9f7eac80",
   "metadata": {},
   "outputs": [
    {
     "data": {
      "text/html": [
       "<div>\n",
       "<style scoped>\n",
       "    .dataframe tbody tr th:only-of-type {\n",
       "        vertical-align: middle;\n",
       "    }\n",
       "\n",
       "    .dataframe tbody tr th {\n",
       "        vertical-align: top;\n",
       "    }\n",
       "\n",
       "    .dataframe thead th {\n",
       "        text-align: right;\n",
       "    }\n",
       "</style>\n",
       "<table border=\"1\" class=\"dataframe\">\n",
       "  <thead>\n",
       "    <tr style=\"text-align: right;\">\n",
       "      <th></th>\n",
       "      <th>country</th>\n",
       "      <th>years</th>\n",
       "      <th>songs</th>\n",
       "      <th>artists</th>\n",
       "      <th>places</th>\n",
       "      <th>points</th>\n",
       "      <th>t_points</th>\n",
       "    </tr>\n",
       "  </thead>\n",
       "  <tbody>\n",
       "    <tr>\n",
       "      <th>0</th>\n",
       "      <td>Australia</td>\n",
       "      <td>2019</td>\n",
       "      <td>Zero Gravity</td>\n",
       "      <td>Kate Miller-Heidke</td>\n",
       "      <td>9</td>\n",
       "      <td>284</td>\n",
       "      <td>128.0</td>\n",
       "    </tr>\n",
       "    <tr>\n",
       "      <th>1</th>\n",
       "      <td>Australia</td>\n",
       "      <td>2018</td>\n",
       "      <td>We Got Love</td>\n",
       "      <td>Jessica Mauboy</td>\n",
       "      <td>20</td>\n",
       "      <td>99</td>\n",
       "      <td>9.0</td>\n",
       "    </tr>\n",
       "    <tr>\n",
       "      <th>2</th>\n",
       "      <td>Australia</td>\n",
       "      <td>2017</td>\n",
       "      <td>Don't Come Easy</td>\n",
       "      <td>Isaiah</td>\n",
       "      <td>9</td>\n",
       "      <td>173</td>\n",
       "      <td>2.0</td>\n",
       "    </tr>\n",
       "    <tr>\n",
       "      <th>3</th>\n",
       "      <td>Australia</td>\n",
       "      <td>2016</td>\n",
       "      <td>Sound of Silence</td>\n",
       "      <td>Dami Im</td>\n",
       "      <td>2</td>\n",
       "      <td>511</td>\n",
       "      <td>191.0</td>\n",
       "    </tr>\n",
       "    <tr>\n",
       "      <th>4</th>\n",
       "      <td>Australia</td>\n",
       "      <td>2015</td>\n",
       "      <td>Tonight Again</td>\n",
       "      <td>Guy Sebastian</td>\n",
       "      <td>5</td>\n",
       "      <td>196</td>\n",
       "      <td>0.0</td>\n",
       "    </tr>\n",
       "  </tbody>\n",
       "</table>\n",
       "</div>"
      ],
      "text/plain": [
       "     country  years             songs             artists  places  points  \\\n",
       "0  Australia   2019      Zero Gravity  Kate Miller-Heidke       9     284   \n",
       "1  Australia   2018       We Got Love      Jessica Mauboy      20      99   \n",
       "2  Australia   2017   Don't Come Easy              Isaiah       9     173   \n",
       "3  Australia   2016  Sound of Silence             Dami Im       2     511   \n",
       "4  Australia   2015     Tonight Again       Guy Sebastian       5     196   \n",
       "\n",
       "   t_points  \n",
       "0     128.0  \n",
       "1       9.0  \n",
       "2       2.0  \n",
       "3     191.0  \n",
       "4       0.0  "
      ]
     },
     "execution_count": 775,
     "metadata": {},
     "output_type": "execute_result"
    }
   ],
   "source": [
    "df_merged.head()"
   ]
  },
  {
   "cell_type": "code",
   "execution_count": 776,
   "id": "8150953a",
   "metadata": {
    "scrolled": true
   },
   "outputs": [
    {
     "name": "stdout",
     "output_type": "stream",
     "text": [
      "<class 'pandas.core.frame.DataFrame'>\n",
      "Int64Index: 1024 entries, 0 to 1023\n",
      "Data columns (total 7 columns):\n",
      " #   Column    Non-Null Count  Dtype  \n",
      "---  ------    --------------  -----  \n",
      " 0   country   1024 non-null   object \n",
      " 1   years     1024 non-null   int64  \n",
      " 2   songs     1024 non-null   object \n",
      " 3   artists   1024 non-null   object \n",
      " 4   places    1024 non-null   int32  \n",
      " 5   points    1024 non-null   int32  \n",
      " 6   t_points  1024 non-null   float64\n",
      "dtypes: float64(1), int32(2), int64(1), object(3)\n",
      "memory usage: 56.0+ KB\n"
     ]
    }
   ],
   "source": [
    "df_merged.info()"
   ]
  },
  {
   "cell_type": "code",
   "execution_count": 777,
   "id": "a84be3fe",
   "metadata": {},
   "outputs": [],
   "source": [
    "df['points'] = df['points'].astype(int)"
   ]
  },
  {
   "cell_type": "code",
   "execution_count": 778,
   "id": "f5ed1987",
   "metadata": {},
   "outputs": [],
   "source": [
    "df_merged = df_merged.rename(columns={'t_points': 'televote'})"
   ]
  },
  {
   "cell_type": "code",
   "execution_count": 779,
   "id": "74c56058",
   "metadata": {},
   "outputs": [
    {
     "data": {
      "text/html": [
       "<div>\n",
       "<style scoped>\n",
       "    .dataframe tbody tr th:only-of-type {\n",
       "        vertical-align: middle;\n",
       "    }\n",
       "\n",
       "    .dataframe tbody tr th {\n",
       "        vertical-align: top;\n",
       "    }\n",
       "\n",
       "    .dataframe thead th {\n",
       "        text-align: right;\n",
       "    }\n",
       "</style>\n",
       "<table border=\"1\" class=\"dataframe\">\n",
       "  <thead>\n",
       "    <tr style=\"text-align: right;\">\n",
       "      <th></th>\n",
       "      <th>country</th>\n",
       "      <th>years</th>\n",
       "      <th>songs</th>\n",
       "      <th>artists</th>\n",
       "      <th>places</th>\n",
       "      <th>points</th>\n",
       "      <th>televote</th>\n",
       "    </tr>\n",
       "  </thead>\n",
       "  <tbody>\n",
       "    <tr>\n",
       "      <th>0</th>\n",
       "      <td>Australia</td>\n",
       "      <td>2019</td>\n",
       "      <td>Zero Gravity</td>\n",
       "      <td>Kate Miller-Heidke</td>\n",
       "      <td>9</td>\n",
       "      <td>284</td>\n",
       "      <td>128.0</td>\n",
       "    </tr>\n",
       "    <tr>\n",
       "      <th>1</th>\n",
       "      <td>Australia</td>\n",
       "      <td>2018</td>\n",
       "      <td>We Got Love</td>\n",
       "      <td>Jessica Mauboy</td>\n",
       "      <td>20</td>\n",
       "      <td>99</td>\n",
       "      <td>9.0</td>\n",
       "    </tr>\n",
       "    <tr>\n",
       "      <th>2</th>\n",
       "      <td>Australia</td>\n",
       "      <td>2017</td>\n",
       "      <td>Don't Come Easy</td>\n",
       "      <td>Isaiah</td>\n",
       "      <td>9</td>\n",
       "      <td>173</td>\n",
       "      <td>2.0</td>\n",
       "    </tr>\n",
       "    <tr>\n",
       "      <th>3</th>\n",
       "      <td>Australia</td>\n",
       "      <td>2016</td>\n",
       "      <td>Sound of Silence</td>\n",
       "      <td>Dami Im</td>\n",
       "      <td>2</td>\n",
       "      <td>511</td>\n",
       "      <td>191.0</td>\n",
       "    </tr>\n",
       "    <tr>\n",
       "      <th>4</th>\n",
       "      <td>Australia</td>\n",
       "      <td>2015</td>\n",
       "      <td>Tonight Again</td>\n",
       "      <td>Guy Sebastian</td>\n",
       "      <td>5</td>\n",
       "      <td>196</td>\n",
       "      <td>0.0</td>\n",
       "    </tr>\n",
       "  </tbody>\n",
       "</table>\n",
       "</div>"
      ],
      "text/plain": [
       "     country  years             songs             artists  places  points  \\\n",
       "0  Australia   2019      Zero Gravity  Kate Miller-Heidke       9     284   \n",
       "1  Australia   2018       We Got Love      Jessica Mauboy      20      99   \n",
       "2  Australia   2017   Don't Come Easy              Isaiah       9     173   \n",
       "3  Australia   2016  Sound of Silence             Dami Im       2     511   \n",
       "4  Australia   2015     Tonight Again       Guy Sebastian       5     196   \n",
       "\n",
       "   televote  \n",
       "0     128.0  \n",
       "1       9.0  \n",
       "2       2.0  \n",
       "3     191.0  \n",
       "4       0.0  "
      ]
     },
     "execution_count": 779,
     "metadata": {},
     "output_type": "execute_result"
    }
   ],
   "source": [
    "df_merged.head()"
   ]
  },
  {
   "cell_type": "code",
   "execution_count": 780,
   "id": "8cbeee7a",
   "metadata": {
    "scrolled": true
   },
   "outputs": [
    {
     "name": "stdout",
     "output_type": "stream",
     "text": [
      "<class 'pandas.core.frame.DataFrame'>\n",
      "Int64Index: 1024 entries, 0 to 1023\n",
      "Data columns (total 7 columns):\n",
      " #   Column    Non-Null Count  Dtype  \n",
      "---  ------    --------------  -----  \n",
      " 0   country   1024 non-null   object \n",
      " 1   years     1024 non-null   int64  \n",
      " 2   songs     1024 non-null   object \n",
      " 3   artists   1024 non-null   object \n",
      " 4   places    1024 non-null   int32  \n",
      " 5   points    1024 non-null   int32  \n",
      " 6   televote  1024 non-null   float64\n",
      "dtypes: float64(1), int32(2), int64(1), object(3)\n",
      "memory usage: 56.0+ KB\n"
     ]
    }
   ],
   "source": [
    "df_merged.info()"
   ]
  },
  {
   "cell_type": "code",
   "execution_count": 781,
   "id": "40f4a997",
   "metadata": {},
   "outputs": [],
   "source": [
    "df_merged['jury'] = df_merged['points'] - df_merged['televote']"
   ]
  },
  {
   "cell_type": "code",
   "execution_count": 782,
   "id": "1e720c14",
   "metadata": {
    "scrolled": true
   },
   "outputs": [
    {
     "name": "stdout",
     "output_type": "stream",
     "text": [
      "<class 'pandas.core.frame.DataFrame'>\n",
      "Int64Index: 1024 entries, 0 to 1023\n",
      "Data columns (total 8 columns):\n",
      " #   Column    Non-Null Count  Dtype  \n",
      "---  ------    --------------  -----  \n",
      " 0   country   1024 non-null   object \n",
      " 1   years     1024 non-null   int64  \n",
      " 2   songs     1024 non-null   object \n",
      " 3   artists   1024 non-null   object \n",
      " 4   places    1024 non-null   int32  \n",
      " 5   points    1024 non-null   int32  \n",
      " 6   televote  1024 non-null   float64\n",
      " 7   jury      1024 non-null   float64\n",
      "dtypes: float64(2), int32(2), int64(1), object(3)\n",
      "memory usage: 64.0+ KB\n"
     ]
    }
   ],
   "source": [
    "df_merged.info()"
   ]
  },
  {
   "cell_type": "code",
   "execution_count": 783,
   "id": "8126c2d1",
   "metadata": {},
   "outputs": [],
   "source": [
    "def assign_position(row):\n",
    "    value = row['places']\n",
    "    year = row['years']\n",
    "    if value == 1:\n",
    "        return '1st place'\n",
    "    elif value == 2:\n",
    "        return '2nd place'\n",
    "    elif value == 3:\n",
    "        return '3rd place'\n",
    "    else:\n",
    "        ultimo = df_merged[df_merged['years'] == year]['places'].max()\n",
    "        if value == ultimo:\n",
    "            return 'Último'\n",
    "        else:\n",
    "            return 'Who cares'\n",
    "\n",
    "df_merged['position'] = df_merged.apply(assign_position, axis=1)"
   ]
  },
  {
   "cell_type": "code",
   "execution_count": 784,
   "id": "9392a973",
   "metadata": {},
   "outputs": [
    {
     "data": {
      "text/html": [
       "<div>\n",
       "<style scoped>\n",
       "    .dataframe tbody tr th:only-of-type {\n",
       "        vertical-align: middle;\n",
       "    }\n",
       "\n",
       "    .dataframe tbody tr th {\n",
       "        vertical-align: top;\n",
       "    }\n",
       "\n",
       "    .dataframe thead th {\n",
       "        text-align: right;\n",
       "    }\n",
       "</style>\n",
       "<table border=\"1\" class=\"dataframe\">\n",
       "  <thead>\n",
       "    <tr style=\"text-align: right;\">\n",
       "      <th></th>\n",
       "      <th>country</th>\n",
       "      <th>years</th>\n",
       "      <th>songs</th>\n",
       "      <th>artists</th>\n",
       "      <th>places</th>\n",
       "      <th>points</th>\n",
       "      <th>televote</th>\n",
       "      <th>jury</th>\n",
       "      <th>position</th>\n",
       "    </tr>\n",
       "  </thead>\n",
       "  <tbody>\n",
       "    <tr>\n",
       "      <th>1019</th>\n",
       "      <td>Ukraine</td>\n",
       "      <td>2007</td>\n",
       "      <td>Dancing Lasha Tumbai</td>\n",
       "      <td>Verka Serduchka</td>\n",
       "      <td>2</td>\n",
       "      <td>235</td>\n",
       "      <td>0.0</td>\n",
       "      <td>235.0</td>\n",
       "      <td>2nd place</td>\n",
       "    </tr>\n",
       "    <tr>\n",
       "      <th>1020</th>\n",
       "      <td>Ukraine</td>\n",
       "      <td>2006</td>\n",
       "      <td>Show Me Your Love</td>\n",
       "      <td>Tina Karol</td>\n",
       "      <td>7</td>\n",
       "      <td>145</td>\n",
       "      <td>0.0</td>\n",
       "      <td>145.0</td>\n",
       "      <td>Who cares</td>\n",
       "    </tr>\n",
       "    <tr>\n",
       "      <th>1021</th>\n",
       "      <td>Ukraine</td>\n",
       "      <td>2005</td>\n",
       "      <td>Razom Nas Bahato</td>\n",
       "      <td>Greenjolly</td>\n",
       "      <td>19</td>\n",
       "      <td>30</td>\n",
       "      <td>0.0</td>\n",
       "      <td>30.0</td>\n",
       "      <td>Who cares</td>\n",
       "    </tr>\n",
       "    <tr>\n",
       "      <th>1022</th>\n",
       "      <td>Ukraine</td>\n",
       "      <td>2004</td>\n",
       "      <td>Wild Dances</td>\n",
       "      <td>Ruslana</td>\n",
       "      <td>1</td>\n",
       "      <td>280</td>\n",
       "      <td>0.0</td>\n",
       "      <td>280.0</td>\n",
       "      <td>1st place</td>\n",
       "    </tr>\n",
       "    <tr>\n",
       "      <th>1023</th>\n",
       "      <td>Ukraine</td>\n",
       "      <td>2003</td>\n",
       "      <td>Hasta La Vista</td>\n",
       "      <td>Olexandr</td>\n",
       "      <td>14</td>\n",
       "      <td>30</td>\n",
       "      <td>0.0</td>\n",
       "      <td>30.0</td>\n",
       "      <td>Who cares</td>\n",
       "    </tr>\n",
       "  </tbody>\n",
       "</table>\n",
       "</div>"
      ],
      "text/plain": [
       "      country  years                 songs          artists  places  points  \\\n",
       "1019  Ukraine   2007  Dancing Lasha Tumbai  Verka Serduchka       2     235   \n",
       "1020  Ukraine   2006     Show Me Your Love       Tina Karol       7     145   \n",
       "1021  Ukraine   2005      Razom Nas Bahato       Greenjolly      19      30   \n",
       "1022  Ukraine   2004           Wild Dances          Ruslana       1     280   \n",
       "1023  Ukraine   2003        Hasta La Vista         Olexandr      14      30   \n",
       "\n",
       "      televote   jury   position  \n",
       "1019       0.0  235.0  2nd place  \n",
       "1020       0.0  145.0  Who cares  \n",
       "1021       0.0   30.0  Who cares  \n",
       "1022       0.0  280.0  1st place  \n",
       "1023       0.0   30.0  Who cares  "
      ]
     },
     "execution_count": 784,
     "metadata": {},
     "output_type": "execute_result"
    }
   ],
   "source": [
    "df_merged.tail()"
   ]
  },
  {
   "cell_type": "code",
   "execution_count": 785,
   "id": "c76e46eb",
   "metadata": {
    "scrolled": true
   },
   "outputs": [
    {
     "data": {
      "text/plain": [
       "Who cares    840\n",
       "Último        50\n",
       "2nd place     45\n",
       "1st place     45\n",
       "3rd place     44\n",
       "Name: position, dtype: int64"
      ]
     },
     "execution_count": 785,
     "metadata": {},
     "output_type": "execute_result"
    }
   ],
   "source": [
    "df_merged['position'].value_counts()"
   ]
  },
  {
   "cell_type": "code",
   "execution_count": 786,
   "id": "4af41856",
   "metadata": {
    "scrolled": true
   },
   "outputs": [
    {
     "data": {
      "text/html": [
       "<div>\n",
       "<style scoped>\n",
       "    .dataframe tbody tr th:only-of-type {\n",
       "        vertical-align: middle;\n",
       "    }\n",
       "\n",
       "    .dataframe tbody tr th {\n",
       "        vertical-align: top;\n",
       "    }\n",
       "\n",
       "    .dataframe thead th {\n",
       "        text-align: right;\n",
       "    }\n",
       "</style>\n",
       "<table border=\"1\" class=\"dataframe\">\n",
       "  <thead>\n",
       "    <tr style=\"text-align: right;\">\n",
       "      <th></th>\n",
       "      <th>years</th>\n",
       "      <th>places</th>\n",
       "      <th>points</th>\n",
       "      <th>televote</th>\n",
       "      <th>jury</th>\n",
       "    </tr>\n",
       "  </thead>\n",
       "  <tbody>\n",
       "    <tr>\n",
       "      <th>count</th>\n",
       "      <td>1024.000000</td>\n",
       "      <td>1024.000000</td>\n",
       "      <td>1024.000000</td>\n",
       "      <td>1024.000000</td>\n",
       "      <td>1024.000000</td>\n",
       "    </tr>\n",
       "    <tr>\n",
       "      <th>mean</th>\n",
       "      <td>1998.512695</td>\n",
       "      <td>12.103516</td>\n",
       "      <td>81.012695</td>\n",
       "      <td>9.420898</td>\n",
       "      <td>71.591797</td>\n",
       "    </tr>\n",
       "    <tr>\n",
       "      <th>std</th>\n",
       "      <td>12.740121</td>\n",
       "      <td>6.856940</td>\n",
       "      <td>81.502969</td>\n",
       "      <td>41.130334</td>\n",
       "      <td>61.990046</td>\n",
       "    </tr>\n",
       "    <tr>\n",
       "      <th>min</th>\n",
       "      <td>1975.000000</td>\n",
       "      <td>1.000000</td>\n",
       "      <td>0.000000</td>\n",
       "      <td>0.000000</td>\n",
       "      <td>0.000000</td>\n",
       "    </tr>\n",
       "    <tr>\n",
       "      <th>25%</th>\n",
       "      <td>1988.000000</td>\n",
       "      <td>6.000000</td>\n",
       "      <td>26.750000</td>\n",
       "      <td>0.000000</td>\n",
       "      <td>25.000000</td>\n",
       "    </tr>\n",
       "    <tr>\n",
       "      <th>50%</th>\n",
       "      <td>1999.000000</td>\n",
       "      <td>12.000000</td>\n",
       "      <td>60.000000</td>\n",
       "      <td>0.000000</td>\n",
       "      <td>56.000000</td>\n",
       "    </tr>\n",
       "    <tr>\n",
       "      <th>75%</th>\n",
       "      <td>2010.000000</td>\n",
       "      <td>18.000000</td>\n",
       "      <td>108.250000</td>\n",
       "      <td>0.000000</td>\n",
       "      <td>100.000000</td>\n",
       "    </tr>\n",
       "    <tr>\n",
       "      <th>max</th>\n",
       "      <td>2019.000000</td>\n",
       "      <td>27.000000</td>\n",
       "      <td>758.000000</td>\n",
       "      <td>376.000000</td>\n",
       "      <td>387.000000</td>\n",
       "    </tr>\n",
       "  </tbody>\n",
       "</table>\n",
       "</div>"
      ],
      "text/plain": [
       "             years       places       points     televote         jury\n",
       "count  1024.000000  1024.000000  1024.000000  1024.000000  1024.000000\n",
       "mean   1998.512695    12.103516    81.012695     9.420898    71.591797\n",
       "std      12.740121     6.856940    81.502969    41.130334    61.990046\n",
       "min    1975.000000     1.000000     0.000000     0.000000     0.000000\n",
       "25%    1988.000000     6.000000    26.750000     0.000000    25.000000\n",
       "50%    1999.000000    12.000000    60.000000     0.000000    56.000000\n",
       "75%    2010.000000    18.000000   108.250000     0.000000   100.000000\n",
       "max    2019.000000    27.000000   758.000000   376.000000   387.000000"
      ]
     },
     "execution_count": 786,
     "metadata": {},
     "output_type": "execute_result"
    }
   ],
   "source": [
    "df_merged.describe()"
   ]
  },
  {
   "cell_type": "code",
   "execution_count": 787,
   "id": "f9ec0e08",
   "metadata": {
    "scrolled": false
   },
   "outputs": [
    {
     "name": "stdout",
     "output_type": "stream",
     "text": [
      "<class 'pandas.core.frame.DataFrame'>\n",
      "Int64Index: 1024 entries, 0 to 1023\n",
      "Data columns (total 9 columns):\n",
      " #   Column    Non-Null Count  Dtype  \n",
      "---  ------    --------------  -----  \n",
      " 0   country   1024 non-null   object \n",
      " 1   years     1024 non-null   int64  \n",
      " 2   songs     1024 non-null   object \n",
      " 3   artists   1024 non-null   object \n",
      " 4   places    1024 non-null   int32  \n",
      " 5   points    1024 non-null   int32  \n",
      " 6   televote  1024 non-null   float64\n",
      " 7   jury      1024 non-null   float64\n",
      " 8   position  1024 non-null   object \n",
      "dtypes: float64(2), int32(2), int64(1), object(4)\n",
      "memory usage: 72.0+ KB\n"
     ]
    }
   ],
   "source": [
    "df_merged.info()"
   ]
  },
  {
   "cell_type": "code",
   "execution_count": 789,
   "id": "ab3a7f5d",
   "metadata": {},
   "outputs": [],
   "source": [
    "df_merged['televote'] = df_merged['televote'].astype(int)"
   ]
  },
  {
   "cell_type": "code",
   "execution_count": 790,
   "id": "f4b907bf",
   "metadata": {},
   "outputs": [],
   "source": [
    "df_merged['jury'] = df_merged['jury'].astype(int)"
   ]
  },
  {
   "cell_type": "code",
   "execution_count": 791,
   "id": "d45f68a7",
   "metadata": {},
   "outputs": [
    {
     "name": "stdout",
     "output_type": "stream",
     "text": [
      "<class 'pandas.core.frame.DataFrame'>\n",
      "Int64Index: 1024 entries, 0 to 1023\n",
      "Data columns (total 9 columns):\n",
      " #   Column    Non-Null Count  Dtype \n",
      "---  ------    --------------  ----- \n",
      " 0   country   1024 non-null   object\n",
      " 1   years     1024 non-null   int64 \n",
      " 2   songs     1024 non-null   object\n",
      " 3   artists   1024 non-null   object\n",
      " 4   places    1024 non-null   int32 \n",
      " 5   points    1024 non-null   int32 \n",
      " 6   televote  1024 non-null   int32 \n",
      " 7   jury      1024 non-null   int32 \n",
      " 8   position  1024 non-null   object\n",
      "dtypes: int32(4), int64(1), object(4)\n",
      "memory usage: 64.0+ KB\n"
     ]
    }
   ],
   "source": [
    "df_merged.info()"
   ]
  },
  {
   "cell_type": "code",
   "execution_count": 792,
   "id": "51266bc3",
   "metadata": {},
   "outputs": [],
   "source": [
    "df_merged.to_csv(r'D:\\\\IRONHACK\\\\Eurovisión\\\\CSV_PRONTOS\\\\posições_eurovision.csv')"
   ]
  },
  {
   "cell_type": "code",
   "execution_count": null,
   "id": "12b5c06e",
   "metadata": {},
   "outputs": [],
   "source": []
  },
  {
   "cell_type": "code",
   "execution_count": null,
   "id": "37facee6",
   "metadata": {},
   "outputs": [],
   "source": []
  },
  {
   "cell_type": "code",
   "execution_count": 793,
   "id": "32aa1317",
   "metadata": {},
   "outputs": [
    {
     "name": "stdout",
     "output_type": "stream",
     "text": [
      "      country  years                songs                            artists  \\\n",
      "106  Bulgaria   2018                Bones                            Equinox   \n",
      "107  Bulgaria   2017       Beautiful Mess                    Kristian Kostov   \n",
      "108  Bulgaria   2016  If Love Was a Crime                        Poli Genova   \n",
      "109  Bulgaria   2007                Water  Elitsa Todorova & Stoyan Yankulov   \n",
      "\n",
      "     places  points  televote  jury   position  \n",
      "106      14     166        66   100  Who cares  \n",
      "107       2     615       337   278  2nd place  \n",
      "108       4     307       180   127  Who cares  \n",
      "109       5     157         0   157  Who cares  \n"
     ]
    }
   ],
   "source": [
    "filtro_bulgaria = df_merged['country'] == 'Bulgaria'\n",
    "\n",
    "# aplicar el filtro al DataFrame\n",
    "eurovision_bulgaria = df_merged[filtro_bulgaria]\n",
    "\n",
    "# imprimir el resultado\n",
    "print(eurovision_bulgaria)"
   ]
  },
  {
   "cell_type": "code",
   "execution_count": null,
   "id": "c21581a8",
   "metadata": {},
   "outputs": [],
   "source": []
  }
 ],
 "metadata": {
  "kernelspec": {
   "display_name": "Python 3 (ipykernel)",
   "language": "python",
   "name": "python3"
  },
  "language_info": {
   "codemirror_mode": {
    "name": "ipython",
    "version": 3
   },
   "file_extension": ".py",
   "mimetype": "text/x-python",
   "name": "python",
   "nbconvert_exporter": "python",
   "pygments_lexer": "ipython3",
   "version": "3.9.12"
  }
 },
 "nbformat": 4,
 "nbformat_minor": 5
}
